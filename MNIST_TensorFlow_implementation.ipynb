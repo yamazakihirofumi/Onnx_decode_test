{
 "cells": [
  {
   "cell_type": "code",
   "execution_count": 1,
   "id": "84e26f2b",
   "metadata": {},
   "outputs": [],
   "source": [
    "import tensorflow as tf\n"
   ]
  },
  {
   "cell_type": "code",
   "execution_count": 2,
   "id": "224ff1de",
   "metadata": {},
   "outputs": [
    {
     "name": "stdout",
     "output_type": "stream",
     "text": [
      "Downloading data from https://storage.googleapis.com/tensorflow/tf-keras-datasets/mnist.npz\n",
      "11493376/11490434 [==============================] - 1s 0us/step\n"
     ]
    }
   ],
   "source": [
    "mnist = tf.keras.datasets.mnist\n",
    "\n",
    "(x_train, y_train), (x_test, y_test) = mnist.load_data()\n",
    "x_train, x_test = x_train / 255.0, x_test / 255.0"
   ]
  },
  {
   "cell_type": "code",
   "execution_count": 3,
   "id": "eb011682",
   "metadata": {},
   "outputs": [],
   "source": [
    "model = tf.keras.models.Sequential([\n",
    "  tf.keras.layers.Flatten(input_shape=(28, 28)),\n",
    "  tf.keras.layers.Dense(128, activation='relu'),\n",
    "  tf.keras.layers.Dropout(0.2),\n",
    "  tf.keras.layers.Dense(10)\n",
    "])"
   ]
  },
  {
   "cell_type": "code",
   "execution_count": 4,
   "id": "f0618b52",
   "metadata": {},
   "outputs": [
    {
     "name": "stdout",
     "output_type": "stream",
     "text": [
      "WARNING:tensorflow:Layer flatten is casting an input tensor from dtype float64 to the layer's dtype of float32, which is new behavior in TensorFlow 2.  The layer has dtype float32 because it's dtype defaults to floatx.\n",
      "\n",
      "If you intended to run this layer in float32, you can safely ignore this warning. If in doubt, this warning is likely only an issue if you are porting a TensorFlow 1.X model to TensorFlow 2.\n",
      "\n",
      "To change all layers to have dtype float64 by default, call `tf.keras.backend.set_floatx('float64')`. To change just this layer, pass dtype='float64' to the layer constructor. If you are the author of this layer, you can disable autocasting by passing autocast=False to the base Layer constructor.\n",
      "\n"
     ]
    },
    {
     "data": {
      "text/plain": [
       "array([[ 0.328538  , -0.70563436, -0.4359837 , -0.33585638, -0.24520877,\n",
       "         0.23978692,  0.4144184 ,  0.3621433 ,  0.50732243,  0.5592934 ]],\n",
       "      dtype=float32)"
      ]
     },
     "execution_count": 4,
     "metadata": {},
     "output_type": "execute_result"
    }
   ],
   "source": [
    "predictions = model(x_train[:1]).numpy()\n",
    "predictions "
   ]
  },
  {
   "cell_type": "code",
   "execution_count": 5,
   "id": "92288746",
   "metadata": {},
   "outputs": [
    {
     "data": {
      "text/plain": [
       "array([[0.11914247, 0.04235759, 0.05546756, 0.06130894, 0.06712613,\n",
       "        0.10902411, 0.1298267 , 0.12321433, 0.14246616, 0.15006603]],\n",
       "      dtype=float32)"
      ]
     },
     "execution_count": 5,
     "metadata": {},
     "output_type": "execute_result"
    }
   ],
   "source": [
    "tf.nn.softmax(predictions).numpy()"
   ]
  },
  {
   "cell_type": "code",
   "execution_count": 6,
   "id": "df9c5035",
   "metadata": {},
   "outputs": [],
   "source": [
    "loss_fn = tf.keras.losses.SparseCategoricalCrossentropy(from_logits=True)"
   ]
  },
  {
   "cell_type": "code",
   "execution_count": 7,
   "id": "ec7d2e14",
   "metadata": {},
   "outputs": [
    {
     "data": {
      "text/plain": [
       "2.2161863"
      ]
     },
     "execution_count": 7,
     "metadata": {},
     "output_type": "execute_result"
    }
   ],
   "source": [
    "loss_fn(y_train[:1], predictions).numpy()"
   ]
  },
  {
   "cell_type": "code",
   "execution_count": 8,
   "id": "dcf50453",
   "metadata": {},
   "outputs": [],
   "source": [
    "model.compile(optimizer='adam',\n",
    "              loss=loss_fn,\n",
    "              metrics=['accuracy'])"
   ]
  },
  {
   "cell_type": "code",
   "execution_count": 9,
   "id": "ae2397c1",
   "metadata": {},
   "outputs": [
    {
     "name": "stdout",
     "output_type": "stream",
     "text": [
      "Train on 60000 samples\n",
      "Epoch 1/5\n",
      "60000/60000 [==============================] - 1s 24us/sample - loss: 0.2991 - accuracy: 0.9132\n",
      "Epoch 2/5\n",
      "60000/60000 [==============================] - 1s 21us/sample - loss: 0.1433 - accuracy: 0.9573\n",
      "Epoch 3/5\n",
      "60000/60000 [==============================] - 1s 21us/sample - loss: 0.1081 - accuracy: 0.9669\n",
      "Epoch 4/5\n",
      "60000/60000 [==============================] - 1s 22us/sample - loss: 0.0871 - accuracy: 0.9735\n",
      "Epoch 5/5\n",
      "60000/60000 [==============================] - 1s 22us/sample - loss: 0.0753 - accuracy: 0.9765\n"
     ]
    },
    {
     "data": {
      "text/plain": [
       "<tensorflow.python.keras.callbacks.History at 0x2bde55f8c88>"
      ]
     },
     "execution_count": 9,
     "metadata": {},
     "output_type": "execute_result"
    }
   ],
   "source": [
    "model.fit(x_train, y_train, epochs=5) "
   ]
  },
  {
   "cell_type": "code",
   "execution_count": 10,
   "id": "0ac391a0",
   "metadata": {},
   "outputs": [
    {
     "name": "stdout",
     "output_type": "stream",
     "text": [
      "10000/10000 - 0s - loss: 0.0724 - accuracy: 0.9786\n"
     ]
    },
    {
     "data": {
      "text/plain": [
       "[0.07241949338680133, 0.9786]"
      ]
     },
     "execution_count": 10,
     "metadata": {},
     "output_type": "execute_result"
    }
   ],
   "source": [
    "model.evaluate(x_test,  y_test, verbose=2)"
   ]
  },
  {
   "cell_type": "code",
   "execution_count": 11,
   "id": "494f6c3f",
   "metadata": {},
   "outputs": [],
   "source": [
    "probability_model = tf.keras.Sequential([\n",
    "  model,\n",
    "  tf.keras.layers.Softmax()\n",
    "])"
   ]
  },
  {
   "cell_type": "code",
   "execution_count": 12,
   "id": "1eedafba",
   "metadata": {},
   "outputs": [
    {
     "data": {
      "text/plain": [
       "<tf.Tensor: shape=(5, 10), dtype=float32, numpy=\n",
       "array([[2.1058999e-07, 1.4035818e-08, 9.2863070e-07, 7.8360509e-04,\n",
       "        4.4573203e-10, 4.6105320e-06, 1.1693385e-13, 9.9914992e-01,\n",
       "        4.3613313e-06, 5.6380835e-05],\n",
       "       [2.5806199e-11, 1.9338131e-05, 9.9994564e-01, 3.4813682e-05,\n",
       "        6.7732010e-16, 2.3768007e-07, 3.2697500e-09, 5.3429961e-14,\n",
       "        2.2771752e-08, 1.6645890e-14],\n",
       "       [2.6609365e-07, 9.9874687e-01, 1.8967998e-04, 1.1028861e-05,\n",
       "        1.9475348e-05, 1.3720364e-05, 6.9449481e-05, 7.5885525e-04,\n",
       "        1.9009506e-04, 4.7204455e-07],\n",
       "       [9.9985266e-01, 1.0255437e-10, 1.0027842e-04, 2.0730576e-07,\n",
       "        5.8424007e-06, 4.4730350e-06, 2.4161025e-06, 1.6226306e-05,\n",
       "        1.2430531e-08, 1.7873124e-05],\n",
       "       [8.6766904e-06, 1.6379753e-10, 4.9282448e-07, 1.2101857e-07,\n",
       "        9.8804677e-01, 2.3627574e-06, 4.9332748e-06, 7.3980809e-05,\n",
       "        8.8253768e-07, 1.1861824e-02]], dtype=float32)>"
      ]
     },
     "execution_count": 12,
     "metadata": {},
     "output_type": "execute_result"
    }
   ],
   "source": [
    "probability_model(x_test[:5]) "
   ]
  },
  {
   "cell_type": "code",
   "execution_count": 16,
   "id": "3900cc06",
   "metadata": {},
   "outputs": [],
   "source": [
    "# run this block to get *.onnx file output\n",
    "import tensorflow.compat.v1 as tf1\n",
    "import tf2onnx\n",
    "\n",
    "with tf1.Session() as sess:\n",
    "    x = tf1.placeholder(tf1.float32, [2, 3], name=\"input\")\n",
    "    x_ = tf1.add(x, x)\n",
    "    _ = tf1.identity(x_, name=\"output\")\n",
    "    onnx_graph = tf2onnx.tfonnx.process_tf_graph(sess.graph, input_names=[\"input:0\"], output_names=[\"output:0\"])\n",
    "    model_proto = onnx_graph.make_model(\"test\")\n",
    "    with open(\"MNIST_TensorFlow_implementation.onnx\", \"wb\") as f:\n",
    "        f.write(model_proto.SerializeToString())\n"
   ]
  },
  {
   "cell_type": "code",
   "execution_count": null,
   "id": "fc2c29b4",
   "metadata": {},
   "outputs": [],
   "source": []
  },
  {
   "cell_type": "code",
   "execution_count": null,
   "id": "cd5f8fe1",
   "metadata": {},
   "outputs": [],
   "source": []
  },
  {
   "cell_type": "code",
   "execution_count": null,
   "id": "ccf467af",
   "metadata": {},
   "outputs": [],
   "source": []
  },
  {
   "cell_type": "code",
   "execution_count": null,
   "id": "575cfa9e",
   "metadata": {},
   "outputs": [],
   "source": []
  }
 ],
 "metadata": {
  "kernelspec": {
   "display_name": "Python 3 (ipykernel)",
   "language": "python",
   "name": "python3"
  },
  "language_info": {
   "codemirror_mode": {
    "name": "ipython",
    "version": 3
   },
   "file_extension": ".py",
   "mimetype": "text/x-python",
   "name": "python",
   "nbconvert_exporter": "python",
   "pygments_lexer": "ipython3",
   "version": "3.7.11"
  }
 },
 "nbformat": 4,
 "nbformat_minor": 5
}
