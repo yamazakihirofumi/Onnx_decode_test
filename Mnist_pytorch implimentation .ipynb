{
 "cells": [
  {
   "cell_type": "code",
   "execution_count": 4,
   "id": "0c274b5a",
   "metadata": {},
   "outputs": [
    {
     "data": {
      "text/plain": [
       "device(type='cpu')"
      ]
     },
     "execution_count": 4,
     "metadata": {},
     "output_type": "execute_result"
    }
   ],
   "source": [
    "import torch \n",
    "import torchvision    \n",
    "device = torch.device('cuda' if torch.cuda.is_available() else 'cpu')\n",
    "device\n"
   ]
  },
  {
   "cell_type": "code",
   "execution_count": 5,
   "id": "167efd87",
   "metadata": {},
   "outputs": [],
   "source": [
    "from torchvision import datasets\n",
    "from torchvision.transforms import ToTensor\n",
    "train_data = datasets.MNIST(\n",
    "    root = 'data',\n",
    "    train = True,                         \n",
    "    transform = ToTensor(), \n",
    "    download = True,            \n",
    ")\n",
    "test_data = datasets.MNIST(\n",
    "    root = 'data', \n",
    "    train = False, \n",
    "    transform = ToTensor()\n",
    ")"
   ]
  },
  {
   "cell_type": "code",
   "execution_count": 6,
   "id": "d67b642c",
   "metadata": {},
   "outputs": [
    {
     "name": "stdout",
     "output_type": "stream",
     "text": [
      "Dataset MNIST\n",
      "    Number of datapoints: 60000\n",
      "    Root location: data\n",
      "    Split: Train\n",
      "    StandardTransform\n",
      "Transform: ToTensor()\n"
     ]
    }
   ],
   "source": [
    "print(train_data)"
   ]
  },
  {
   "cell_type": "code",
   "execution_count": 7,
   "id": "d15ed704",
   "metadata": {},
   "outputs": [
    {
     "name": "stdout",
     "output_type": "stream",
     "text": [
      "Dataset MNIST\n",
      "    Number of datapoints: 10000\n",
      "    Root location: data\n",
      "    Split: Test\n",
      "    StandardTransform\n",
      "Transform: ToTensor()\n"
     ]
    }
   ],
   "source": [
    "print(test_data)\n"
   ]
  },
  {
   "cell_type": "code",
   "execution_count": 8,
   "id": "647e8bcd",
   "metadata": {},
   "outputs": [
    {
     "name": "stdout",
     "output_type": "stream",
     "text": [
      "torch.Size([60000, 28, 28])\n"
     ]
    }
   ],
   "source": [
    "print(train_data.data.size())\n"
   ]
  },
  {
   "cell_type": "code",
   "execution_count": 9,
   "id": "6e7ef6dd",
   "metadata": {},
   "outputs": [
    {
     "name": "stdout",
     "output_type": "stream",
     "text": [
      "torch.Size([60000])\n"
     ]
    }
   ],
   "source": [
    "print(train_data.targets.size())"
   ]
  },
  {
   "cell_type": "code",
   "execution_count": 10,
   "id": "807617df",
   "metadata": {},
   "outputs": [],
   "source": [
    "#plot one train data\n",
    "import matplotlib as mpl\n",
    "import matplotlib.pyplot as plt\n",
    "mpl.use('tkAgg')\n",
    "fig = plt.figure()\n",
    "fig.set_tight_layout(True)\n",
    "\n",
    "plt.imshow(train_data.data[0], cmap='gray')\n",
    "plt.title('%i' % train_data.targets[0])\n",
    "\n",
    "plt.show()\n",
    "#print(plt.show())"
   ]
  },
  {
   "cell_type": "code",
   "execution_count": 11,
   "id": "1707178a",
   "metadata": {},
   "outputs": [],
   "source": [
    "#plot multiple train_data\n",
    "figure  = plt.figure(figsize=(10,8))\n",
    "cols, rows = 5,5 \n",
    "for i in range(1, cols * rows +1):\n",
    "    sample_idx = torch.randint(len(train_data), size=(1,) ).item()\n",
    "    img, label = train_data[sample_idx]\n",
    "    figure.add_subplot(rows, cols, i )\n",
    "    plt.title(label)\n",
    "    plt.axis(\"off\")\n",
    "    plt.imshow(img.squeeze(), cmap=\"gray\")\n",
    "plt.show()"
   ]
  },
  {
   "cell_type": "code",
   "execution_count": 12,
   "id": "6dac5965",
   "metadata": {},
   "outputs": [
    {
     "data": {
      "text/plain": [
       "{'train': <torch.utils.data.dataloader.DataLoader at 0x23dc7e35fa0>,\n",
       " 'test': <torch.utils.data.dataloader.DataLoader at 0x23dc7e35fd0>}"
      ]
     },
     "execution_count": 12,
     "metadata": {},
     "output_type": "execute_result"
    }
   ],
   "source": [
    "#prepare data for training with DataLoaders\n",
    "# use function to get data been shuffled to prevent overfitting\n",
    "\n",
    "from torch.utils.data import DataLoader\n",
    "\n",
    "loaders = { \n",
    "    'train' :torch.utils.data.DataLoader(train_data, batch_size=100, \n",
    "                                         shuffle= True, num_workers=1),\n",
    "    'test': torch.utils.data.DataLoader(test_data,batch_size = 100,\n",
    "                                       shuffle=True, num_workers=1),\n",
    "}\n",
    "loaders"
   ]
  },
  {
   "cell_type": "code",
   "execution_count": 13,
   "id": "2a108a19",
   "metadata": {},
   "outputs": [],
   "source": [
    "#define the cnn model \n",
    "#use 2 fully convolutional layers\n",
    "#relu activation function and Mappooling\n",
    "import torch.nn as nn \n",
    "class CNN(nn.Module):\n",
    "    def __init__(self):\n",
    "        super(CNN, self).__init__()\n",
    "        self.conv1 = nn.Sequential(         \n",
    "            nn.Conv2d(\n",
    "                in_channels=1,              \n",
    "                out_channels=16,            \n",
    "                kernel_size=5,              \n",
    "                stride=1,                   \n",
    "                padding=2,                  \n",
    "            ),                              \n",
    "            nn.ReLU(),                      \n",
    "            nn.MaxPool2d(kernel_size=2),    \n",
    "        )\n",
    "        self.conv2 = nn.Sequential(         \n",
    "            nn.Conv2d(16, 32, 5, 1, 2),     \n",
    "            nn.ReLU(),                      \n",
    "            nn.MaxPool2d(2),                \n",
    "        )\n",
    "        # fully connected layer, output 10 classes\n",
    "        self.out = nn.Linear(32 * 7 * 7, 10)\n",
    "    def forward(self, x):\n",
    "        x = self.conv1(x)\n",
    "        x = self.conv2(x)\n",
    "        # flatten the output of conv2 to (batch_size, 32 * 7 * 7)\n",
    "        x = x.view(x.size(0), -1)       \n",
    "        output = self.out(x)\n",
    "        return output, x    # return x for visualization\n",
    "    \n",
    "    # The forward() pass defines the way we compute ouroutput using the given \n",
    "    #layers and functions\n",
    "\n",
    "    \n"
   ]
  },
  {
   "cell_type": "code",
   "execution_count": 14,
   "id": "7cb2c1cf",
   "metadata": {},
   "outputs": [
    {
     "name": "stdout",
     "output_type": "stream",
     "text": [
      "CNN(\n",
      "  (conv1): Sequential(\n",
      "    (0): Conv2d(1, 16, kernel_size=(5, 5), stride=(1, 1), padding=(2, 2))\n",
      "    (1): ReLU()\n",
      "    (2): MaxPool2d(kernel_size=2, stride=2, padding=0, dilation=1, ceil_mode=False)\n",
      "  )\n",
      "  (conv2): Sequential(\n",
      "    (0): Conv2d(16, 32, kernel_size=(5, 5), stride=(1, 1), padding=(2, 2))\n",
      "    (1): ReLU()\n",
      "    (2): MaxPool2d(kernel_size=2, stride=2, padding=0, dilation=1, ceil_mode=False)\n",
      "  )\n",
      "  (out): Linear(in_features=1568, out_features=10, bias=True)\n",
      ")\n"
     ]
    }
   ],
   "source": [
    "cnn = CNN()\n",
    "print(cnn)"
   ]
  },
  {
   "cell_type": "code",
   "execution_count": 15,
   "id": "6c1e790c",
   "metadata": {},
   "outputs": [
    {
     "data": {
      "text/plain": [
       "CrossEntropyLoss()"
      ]
     },
     "execution_count": 15,
     "metadata": {},
     "output_type": "execute_result"
    }
   ],
   "source": [
    "#defile a loss function \n",
    "loss_func = nn.CrossEntropyLoss()\n",
    "loss_func\n"
   ]
  },
  {
   "cell_type": "code",
   "execution_count": 16,
   "id": "a0fd9810",
   "metadata": {},
   "outputs": [
    {
     "data": {
      "text/plain": [
       "Adam (\n",
       "Parameter Group 0\n",
       "    amsgrad: False\n",
       "    betas: (0.9, 0.999)\n",
       "    eps: 1e-08\n",
       "    lr: 0.01\n",
       "    weight_decay: 0\n",
       ")"
      ]
     },
     "execution_count": 16,
     "metadata": {},
     "output_type": "execute_result"
    }
   ],
   "source": [
    "from torch import optim \n",
    "\n",
    "optimizer = optim.Adam(cnn.parameters(), lr = 0.01)\n",
    "optimizer"
   ]
  },
  {
   "cell_type": "code",
   "execution_count": 17,
   "id": "179e866a",
   "metadata": {},
   "outputs": [
    {
     "name": "stdout",
     "output_type": "stream",
     "text": [
      "Epoch [1/10], Step [100/600], Loss: 0.0494\n",
      "Epoch [1/10], Step [200/600], Loss: 0.1222\n",
      "Epoch [1/10], Step [300/600], Loss: 0.0623\n",
      "Epoch [1/10], Step [400/600], Loss: 0.0209\n",
      "Epoch [1/10], Step [500/600], Loss: 0.0220\n",
      "Epoch [1/10], Step [600/600], Loss: 0.0343\n",
      "Epoch [2/10], Step [100/600], Loss: 0.0495\n",
      "Epoch [2/10], Step [200/600], Loss: 0.0764\n",
      "Epoch [2/10], Step [300/600], Loss: 0.0991\n",
      "Epoch [2/10], Step [400/600], Loss: 0.0188\n",
      "Epoch [2/10], Step [500/600], Loss: 0.0530\n",
      "Epoch [2/10], Step [600/600], Loss: 0.0387\n",
      "Epoch [3/10], Step [100/600], Loss: 0.0183\n",
      "Epoch [3/10], Step [200/600], Loss: 0.0110\n",
      "Epoch [3/10], Step [300/600], Loss: 0.0818\n",
      "Epoch [3/10], Step [400/600], Loss: 0.0402\n",
      "Epoch [3/10], Step [500/600], Loss: 0.0442\n",
      "Epoch [3/10], Step [600/600], Loss: 0.0128\n",
      "Epoch [4/10], Step [100/600], Loss: 0.0110\n",
      "Epoch [4/10], Step [200/600], Loss: 0.0273\n",
      "Epoch [4/10], Step [300/600], Loss: 0.0349\n",
      "Epoch [4/10], Step [400/600], Loss: 0.0210\n",
      "Epoch [4/10], Step [500/600], Loss: 0.0492\n",
      "Epoch [4/10], Step [600/600], Loss: 0.0008\n",
      "Epoch [5/10], Step [100/600], Loss: 0.0015\n",
      "Epoch [5/10], Step [200/600], Loss: 0.0079\n",
      "Epoch [5/10], Step [300/600], Loss: 0.0478\n",
      "Epoch [5/10], Step [400/600], Loss: 0.1481\n",
      "Epoch [5/10], Step [500/600], Loss: 0.0080\n",
      "Epoch [5/10], Step [600/600], Loss: 0.0735\n",
      "Epoch [6/10], Step [100/600], Loss: 0.0466\n",
      "Epoch [6/10], Step [200/600], Loss: 0.0523\n",
      "Epoch [6/10], Step [300/600], Loss: 0.0329\n",
      "Epoch [6/10], Step [400/600], Loss: 0.0821\n",
      "Epoch [6/10], Step [500/600], Loss: 0.0131\n",
      "Epoch [6/10], Step [600/600], Loss: 0.0281\n",
      "Epoch [7/10], Step [100/600], Loss: 0.0518\n",
      "Epoch [7/10], Step [200/600], Loss: 0.0056\n",
      "Epoch [7/10], Step [300/600], Loss: 0.0034\n",
      "Epoch [7/10], Step [400/600], Loss: 0.0590\n",
      "Epoch [7/10], Step [500/600], Loss: 0.0756\n",
      "Epoch [7/10], Step [600/600], Loss: 0.1078\n",
      "Epoch [8/10], Step [100/600], Loss: 0.0907\n",
      "Epoch [8/10], Step [200/600], Loss: 0.0075\n",
      "Epoch [8/10], Step [300/600], Loss: 0.0087\n",
      "Epoch [8/10], Step [400/600], Loss: 0.0028\n",
      "Epoch [8/10], Step [500/600], Loss: 0.0505\n",
      "Epoch [8/10], Step [600/600], Loss: 0.0288\n",
      "Epoch [9/10], Step [100/600], Loss: 0.0312\n",
      "Epoch [9/10], Step [200/600], Loss: 0.0059\n",
      "Epoch [9/10], Step [300/600], Loss: 0.0031\n",
      "Epoch [9/10], Step [400/600], Loss: 0.0588\n",
      "Epoch [9/10], Step [500/600], Loss: 0.0076\n",
      "Epoch [9/10], Step [600/600], Loss: 0.0689\n",
      "Epoch [10/10], Step [100/600], Loss: 0.0692\n",
      "Epoch [10/10], Step [200/600], Loss: 0.0008\n",
      "Epoch [10/10], Step [300/600], Loss: 0.0927\n",
      "Epoch [10/10], Step [400/600], Loss: 0.0549\n",
      "Epoch [10/10], Step [500/600], Loss: 0.0057\n",
      "Epoch [10/10], Step [600/600], Loss: 0.0056\n"
     ]
    }
   ],
   "source": [
    "from torch.autograd import Variable\n",
    "num_epochs = 10\n",
    "def train(num_epochs, cnn, loaders):\n",
    "    \n",
    "    cnn.train()\n",
    "        \n",
    "    # Train the model\n",
    "    total_step = len(loaders['train'])\n",
    "        \n",
    "    for epoch in range(num_epochs):\n",
    "        for i, (images, labels) in enumerate(loaders['train']):\n",
    "            \n",
    "            # gives batch data, normalize x when iterate train_loader\n",
    "            b_x = Variable(images)   # batch x\n",
    "            b_y = Variable(labels)   # batch y\n",
    "            output = cnn(b_x)[0]               \n",
    "            loss = loss_func(output, b_y)\n",
    "            \n",
    "            # clear gradients for this training step   \n",
    "            optimizer.zero_grad()           \n",
    "            \n",
    "            # backpropagation, compute gradients \n",
    "            loss.backward()    \n",
    "            # apply gradients             \n",
    "            optimizer.step()                \n",
    "            \n",
    "            if (i+1) % 100 == 0:\n",
    "                print ('Epoch [{}/{}], Step [{}/{}], Loss: {:.4f}' \n",
    "                       .format(epoch + 1, num_epochs, i + 1, total_step, loss.item()))\n",
    "                pass\n",
    "        \n",
    "            pass\n",
    "        pass\n",
    "train(num_epochs, cnn, loaders)\n",
    "        \n",
    "    "
   ]
  },
  {
   "cell_type": "code",
   "execution_count": 18,
   "id": "51821040",
   "metadata": {},
   "outputs": [
    {
     "name": "stdout",
     "output_type": "stream",
     "text": [
      "Test Accuracy of the model on the 10000 test images: 1.00\n"
     ]
    }
   ],
   "source": [
    "def test():\n",
    "    # Test the model\n",
    "    cnn.eval()\n",
    "    with torch.no_grad():\n",
    "        correct = 0\n",
    "        total = 0\n",
    "        for images, labels in loaders['test']:\n",
    "            test_output, last_layer = cnn(images)\n",
    "            pred_y = torch.max(test_output, 1)[1].data.squeeze()\n",
    "            accuracy = (pred_y == labels).sum().item() / float(labels.size(0))\n",
    "            pass\n",
    "    print('Test Accuracy of the model on the 10000 test images: %.2f' % accuracy)\n",
    "    \n",
    "    pass\n",
    "test()"
   ]
  },
  {
   "cell_type": "code",
   "execution_count": 19,
   "id": "d0ff30fe",
   "metadata": {},
   "outputs": [],
   "source": [
    "sample = next(iter(loaders['test']))\n",
    "imgs, lbls = sample\n",
    "\n"
   ]
  },
  {
   "cell_type": "code",
   "execution_count": 20,
   "id": "e486dbaf",
   "metadata": {},
   "outputs": [
    {
     "name": "stdout",
     "output_type": "stream",
     "text": [
      "[6 8 2 1 1 5 5 0 4 9]\n"
     ]
    }
   ],
   "source": [
    "actual_number  = lbls[:10].numpy()\n",
    "print(actual_number)"
   ]
  },
  {
   "cell_type": "code",
   "execution_count": 21,
   "id": "65390717",
   "metadata": {},
   "outputs": [
    {
     "name": "stdout",
     "output_type": "stream",
     "text": [
      "Prediction number: [6 8 2 1 1 5 5 0 4 9]\n",
      "Actual number: [6 8 2 1 1 5 5 0 4 9]\n"
     ]
    }
   ],
   "source": [
    "test_output, last_layer = cnn(imgs[:10])\n",
    "pred_y = torch.max(test_output, 1)[1].data.numpy().squeeze()\n",
    "print(f'Prediction number: {pred_y}')\n",
    "print(f'Actual number: {actual_number}')"
   ]
  },
  {
   "cell_type": "code",
   "execution_count": 22,
   "id": "ada44674",
   "metadata": {},
   "outputs": [
    {
     "data": {
      "text/plain": [
       "torch.Size([16, 1, 5, 5])"
      ]
     },
     "execution_count": 22,
     "metadata": {},
     "output_type": "execute_result"
    }
   ],
   "source": []
  },
  {
   "cell_type": "code",
   "execution_count": 26,
   "id": "821c7622",
   "metadata": {},
   "outputs": [
    {
     "name": "stdout",
     "output_type": "stream",
     "text": [
      "graph(%input.1 : Float(1:784, 1:784, 28:28, 28:1),\n",
      "      %conv1.0.weight : Float(16:25, 1:25, 5:5, 5:1),\n",
      "      %conv1.0.bias : Float(16:1),\n",
      "      %conv2.0.weight : Float(32:400, 16:25, 5:5, 5:1),\n",
      "      %conv2.0.bias : Float(32:1),\n",
      "      %out.weight : Float(10:1568, 1568:1),\n",
      "      %out.bias : Float(10:1),\n",
      "      %22 : Long(1:1)):\n",
      "  %7 : Float(1:12544, 16:784, 28:28, 28:1) = onnx::Conv[dilations=[1, 1], group=1, kernel_shape=[5, 5], pads=[2, 2, 2, 2], strides=[1, 1]](%input.1, %conv1.0.weight, %conv1.0.bias) # E:\\anaconda\\envs\\pytorch\\lib\\site-packages\\torch\\nn\\modules\\conv.py:415:0\n",
      "  %8 : Float(1:12544, 16:784, 28:28, 28:1) = onnx::Relu(%7) # E:\\anaconda\\envs\\pytorch\\lib\\site-packages\\torch\\nn\\functional.py:1119:0\n",
      "  %9 : Float(1:3136, 16:196, 14:14, 14:1) = onnx::MaxPool[kernel_shape=[2, 2], pads=[0, 0, 0, 0], strides=[2, 2]](%8) # E:\\anaconda\\envs\\pytorch\\lib\\site-packages\\torch\\nn\\functional.py:575:0\n",
      "  %10 : Float(1:6272, 32:196, 14:14, 14:1) = onnx::Conv[dilations=[1, 1], group=1, kernel_shape=[5, 5], pads=[2, 2, 2, 2], strides=[1, 1]](%9, %conv2.0.weight, %conv2.0.bias) # E:\\anaconda\\envs\\pytorch\\lib\\site-packages\\torch\\nn\\modules\\conv.py:415:0\n",
      "  %11 : Float(1:6272, 32:196, 14:14, 14:1) = onnx::Relu(%10) # E:\\anaconda\\envs\\pytorch\\lib\\site-packages\\torch\\nn\\functional.py:1119:0\n",
      "  %12 : Float(1:1568, 32:49, 7:7, 7:1) = onnx::MaxPool[kernel_shape=[2, 2], pads=[0, 0, 0, 0], strides=[2, 2]](%11) # E:\\anaconda\\envs\\pytorch\\lib\\site-packages\\torch\\nn\\functional.py:575:0\n",
      "  %13 : Tensor = onnx::Shape(%12)\n",
      "  %14 : Tensor = onnx::Constant[value={0}]()\n",
      "  %15 : Long() = onnx::Gather[axis=0](%13, %14) # C:\\Users\\dourlin\\AppData\\Local\\Temp/ipykernel_5212/607977385.py:30:0\n",
      "  %17 : Tensor = onnx::Unsqueeze[axes=[0]](%15)\n",
      "  %19 : Tensor = onnx::Concat[axis=0](%17, %22)\n",
      "  %20 : Float(1:1568, 1568:1) = onnx::Reshape(%12, %19) # C:\\Users\\dourlin\\AppData\\Local\\Temp/ipykernel_5212/607977385.py:30:0\n",
      "  %21 : Float(1:10, 10:1) = onnx::Gemm[alpha=1., beta=1., transB=1](%20, %out.weight, %out.bias) # E:\\anaconda\\envs\\pytorch\\lib\\site-packages\\torch\\nn\\functional.py:1674:0\n",
      "  return (%21, %20)\n",
      "\n"
     ]
    }
   ],
   "source": [
    "#import onnx to the program and output the result \n",
    "\n",
    "import torch.onnx \n",
    "from torch import nn \n",
    "\n",
    "# the dummy_imput shoule be the size of imput (train data),  1x1x28x28 means black and white picture have 28*28 pixel shape\n",
    "dummy_input = torch.randn(1,1,28,28)\n",
    "\n",
    "\n",
    "torch.onnx.export(cnn, dummy_input, \"output.onnx\", verbose=True)\n"
   ]
  },
  {
   "cell_type": "raw",
   "id": "4a0e5e6d",
   "metadata": {},
   "source": [
    "\n"
   ]
  },
  {
   "cell_type": "code",
   "execution_count": null,
   "id": "1e35cacb",
   "metadata": {},
   "outputs": [],
   "source": []
  }
 ],
 "metadata": {
  "kernelspec": {
   "display_name": "Python 3 (ipykernel)",
   "language": "python",
   "name": "python3"
  },
  "language_info": {
   "codemirror_mode": {
    "name": "ipython",
    "version": 3
   },
   "file_extension": ".py",
   "mimetype": "text/x-python",
   "name": "python",
   "nbconvert_exporter": "python",
   "pygments_lexer": "ipython3",
   "version": "3.8.5"
  }
 },
 "nbformat": 4,
 "nbformat_minor": 5
}
